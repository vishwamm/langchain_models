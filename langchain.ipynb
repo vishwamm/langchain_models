{
 "cells": [
  {
   "cell_type": "code",
   "execution_count": 1,
   "metadata": {},
   "outputs": [],
   "source": [
    "import pandas as pd\n",
    "from langchain.agents import Tool\n",
    "from langchain.agents import initialize_agent\n",
    "from langchain.chains.conversation.memory import ConversationBufferWindowMemory\n",
    "from tavily import TavilyClient\n",
    "from langchain_experimental.agents import create_csv_agent\n",
    "from langchain_groq import ChatGroq\n",
    "from sqlalchemy import create_engine\n",
    "from langchain_community.agent_toolkits import create_sql_agent\n",
    "from langchain_community.utilities import SQLDatabase"
   ]
  },
  {
   "cell_type": "code",
   "execution_count": 2,
   "metadata": {},
   "outputs": [],
   "source": [
    "model = ChatGroq(\n",
    "            model=\"llama3-70b-8192\",groq_api_key=\"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\", temperature= 0\n",
    "        )"
   ]
  },
  {
   "cell_type": "code",
   "execution_count": 3,
   "metadata": {},
   "outputs": [],
   "source": [
    "def analyst(input=\"\"):\n",
    "    model = ChatGroq(\n",
    "            model=\"llama3-70b-8192\",groq_api_key=\"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\", temperature= 0\n",
    "        )\n",
    "    \n",
    "    csv_path =\"people.csv\"\n",
    "    agent = create_csv_agent(model, csv_path ,allow_dangerous_code=True)\n",
    "    response = agent.run(input)\n",
    "    return(response)\n",
    "analyst_tool=Tool(\n",
    "    name=\"Data_analyst\",\n",
    "    func=analyst,\n",
    "    description=\" use this tool to analyze a CSV dataset using a pre-trained large language mode.It interacts with the model to answer questions about the data and if need you can also use python language for task completion\"\n",
    ")"
   ]
  },
  {
   "cell_type": "code",
   "execution_count": 4,
   "metadata": {},
   "outputs": [],
   "source": [
    "\n",
    "def sql(input=\"\"):\n",
    "    model = ChatGroq(\n",
    "                model=\"llama3-70b-8192\",groq_api_key=\"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\", temperature= 0\n",
    "            )\n",
    "    engine = create_engine(\"sqlite:///my_database.db\")\n",
    "    db = SQLDatabase(engine=engine)\n",
    "    agent_executor = create_sql_agent(model, db=db, verbose=True)\n",
    "    return(agent_executor.invoke({\"input\": {input}}))\n",
    "SQL_Tool=Tool(\n",
    "    name=\"Sql_tool\",\n",
    "    func=sql,\n",
    "    description=\"You are a SQL tool and you need to answer to the inputs given to you by generating SQL queries and return the output\"\n",
    ")\n",
    "    "
   ]
  },
  {
   "cell_type": "code",
   "execution_count": 5,
   "metadata": {},
   "outputs": [
    {
     "name": "stderr",
     "output_type": "stream",
     "text": [
      "USER_AGENT environment variable not set, consider setting it to identify your requests.\n"
     ]
    }
   ],
   "source": [
    "from langchain_community.document_loaders import AsyncHtmlLoader\n",
    "from langchain_community.document_transformers import Html2TextTransformer\n",
    "def scrape(input=\"\"):\n",
    "    urls = [input]\n",
    "    loader = AsyncHtmlLoader(urls)\n",
    "    docs = loader.load()\n",
    "    html2text = Html2TextTransformer()\n",
    "    docs_transformed = html2text.transform_documents(docs)\n",
    "    return(docs_transformed[0].page_content[0:500])\n",
    "web_scraper_tool=Tool(\n",
    "    name=\"Web_scrapper\",\n",
    "    func=scrape,\n",
    "    description=\"Scrape the Given url provided by the user and give a short description about it\"\n",
    ")\n",
    "    "
   ]
  },
  {
   "cell_type": "code",
   "execution_count": 6,
   "metadata": {},
   "outputs": [],
   "source": [
    "def search(input=\"\"):\n",
    "    tavily = TavilyClient(api_key=\"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\")\n",
    "    query = input\n",
    "    response = tavily.search(query)\n",
    "    if response[\"results\"][0]:\n",
    "        result=response[\"results\"][0]\n",
    "        return(result.get(\"content\"))\n",
    "search_tool=Tool(\n",
    "    name=\"Tavily_search_engine\",\n",
    "    func=search,\n",
    "    description=\"You are a search tool and you need to give answers to the query\"\n",
    ")"
   ]
  },
  {
   "cell_type": "code",
   "execution_count": 7,
   "metadata": {},
   "outputs": [],
   "source": [
    "tools=[analyst_tool,search_tool,web_scraper_tool,SQL_Tool]"
   ]
  },
  {
   "cell_type": "code",
   "execution_count": 8,
   "metadata": {},
   "outputs": [],
   "source": [
    "memory=ConversationBufferWindowMemory(memory_key='chat_history',k=5,return_messages=True)"
   ]
  },
  {
   "cell_type": "code",
   "execution_count": 9,
   "metadata": {},
   "outputs": [
    {
     "name": "stderr",
     "output_type": "stream",
     "text": [
      "c:\\anaconda\\envs\\langgraph\\lib\\site-packages\\langchain_core\\_api\\deprecation.py:139: LangChainDeprecationWarning: The function `initialize_agent` was deprecated in LangChain 0.1.0 and will be removed in 0.3.0. Use Use new agent constructor methods like create_react_agent, create_json_agent, create_structured_chat_agent, etc. instead.\n",
      "  warn_deprecated(\n"
     ]
    }
   ],
   "source": [
    "conversational_agent =initialize_agent(\n",
    "agent='chat-conversational-react-description',\n",
    "tools=tools,\n",
    "llm=model,\n",
    "verbose=True,\n",
    "max_iterations=10000,\n",
    "early_stopping_method='generate',\n",
    "memory=memory,\n",
    "handle_parsing_errors=True)"
   ]
  },
  {
   "cell_type": "code",
   "execution_count": 10,
   "metadata": {},
   "outputs": [
    {
     "name": "stderr",
     "output_type": "stream",
     "text": [
      "c:\\anaconda\\envs\\langgraph\\lib\\site-packages\\langchain_core\\_api\\deprecation.py:139: LangChainDeprecationWarning: The method `Chain.__call__` was deprecated in langchain 0.1.0 and will be removed in 0.3.0. Use invoke instead.\n",
      "  warn_deprecated(\n"
     ]
    },
    {
     "name": "stdout",
     "output_type": "stream",
     "text": [
      "\n",
      "\n",
      "\u001b[1m> Entering new AgentExecutor chain...\u001b[0m\n",
      "\u001b[32;1m\u001b[1;3m```json\n",
      "{\n",
      "    \"action\": \"Data_analyst\",\n",
      "    \"action_input\": \"Please analyze the CSV file and change the format of the birth-date column to yyyy/mm/dd, leaving the remaining columns unchanged, and save it as people.csv.\"\n",
      "}\n",
      "```\u001b[0m"
     ]
    },
    {
     "name": "stderr",
     "output_type": "stream",
     "text": [
      "c:\\anaconda\\envs\\langgraph\\lib\\site-packages\\langchain_core\\_api\\deprecation.py:139: LangChainDeprecationWarning: The method `Chain.run` was deprecated in langchain 0.1.0 and will be removed in 0.3.0. Use invoke instead.\n",
      "  warn_deprecated(\n"
     ]
    },
    {
     "name": "stdout",
     "output_type": "stream",
     "text": [
      "\n",
      "Observation: \u001b[36;1m\u001b[1;3mThe CSV file has been successfully analyzed, the 'birth-date' column has been converted to the desired format, and the resulting dataframe has been saved as people.csv.\u001b[0m\n",
      "Thought:\u001b[32;1m\u001b[1;3m```json\n",
      "{\n",
      "    \"action\": \"Final Answer\",\n",
      "    \"action_input\": \"The CSV file has been successfully analyzed, the 'birth-date' column has been converted to the desired format, and the resulting dataframe has been saved as people.csv.\"\n",
      "}\n",
      "```\u001b[0m\n",
      "\n",
      "\u001b[1m> Finished chain.\u001b[0m\n"
     ]
    },
    {
     "data": {
      "text/plain": [
       "{'input': 'In the given csv file change the format of birth-date column format into yyyy/mm//dd and dont change remaining columns and save it as people.csv file\\n                     ',\n",
       " 'chat_history': [],\n",
       " 'output': \"The CSV file has been successfully analyzed, the 'birth-date' column has been converted to the desired format, and the resulting dataframe has been saved as people.csv.\"}"
      ]
     },
     "execution_count": 10,
     "metadata": {},
     "output_type": "execute_result"
    }
   ],
   "source": [
    "conversational_agent(\"\"\"In the given csv file change the format of birth-date column format into yyyy/mm//dd and dont change remaining columns and save it as people.csv file\n",
    "                     \"\"\")\n",
    "                    "
   ]
  },
  {
   "cell_type": "code",
   "execution_count": 12,
   "metadata": {},
   "outputs": [
    {
     "name": "stdout",
     "output_type": "stream",
     "text": [
      "\n",
      "\n",
      "\u001b[1m> Entering new AgentExecutor chain...\u001b[0m\n",
      "\u001b[32;1m\u001b[1;3m```json\n",
      "{\n",
      "    \"action\": \"Data_analyst\",\n",
      "    \"action_input\": \"import pandas as pd; df = pd.read_csv('people.csv'); df['Name'] = df['First Name'] + ' ' + df['Last Name']; df = df.drop(['First Name', 'Last Name'], axis=1); df.to_csv('people.csv', index=False)\"\n",
      "}\n",
      "```\u001b[0m\n",
      "Observation: \u001b[36;1m\u001b[1;3mThe operations have been performed on the dataframe `df` and it has been saved to a CSV file named `people.csv`. The resulting CSV file will have the `Name` column created by concatenating `First Name` and `Last Name`, and the `First Name` and `Last Name` columns will be dropped.\u001b[0m\n",
      "Thought:\u001b[32;1m\u001b[1;3m```json\n",
      "{\n",
      "    \"action\": \"Final Answer\",\n",
      "    \"action_input\": \"The resulting dataframe has a new column called 'Name' which is a combination of 'First Name' and 'Last Name' separated by a space, and the 'First Name' and 'Last Name' columns have been deleted. The modified dataframe has been saved to a CSV file named 'people.csv'.\"\n",
      "}\n",
      "```\u001b[0m\n",
      "\n",
      "\u001b[1m> Finished chain.\u001b[0m\n"
     ]
    },
    {
     "data": {
      "text/plain": [
       "{'input': 'In the given poeple.csv file create a new column called Name and fill the column with the column values of \\n                     First Name and Last Name separated with space.Then Delete First Name and Last Name column in th dataset.\\n                     Save the given dataset after the modification as people.csv. \\n                     ',\n",
       " 'chat_history': [HumanMessage(content='In the given poeple.csv file create a new column called Name and fill the column with the column values of \\n                     First Name and Last Name separated with space.Then Delete First Name and Last Name column in th dataset.\\n                     Save the given dataset after the modification . \\n                     '),\n",
       "  AIMessage(content=\"The resulting dataframe has 8 columns: 'Index', 'User Id', 'Sex', 'Email', 'Phone', 'Job Title', 'birth-date', and 'Name'.\")],\n",
       " 'output': \"The resulting dataframe has a new column called 'Name' which is a combination of 'First Name' and 'Last Name' separated by a space, and the 'First Name' and 'Last Name' columns have been deleted. The modified dataframe has been saved to a CSV file named 'people.csv'.\"}"
      ]
     },
     "execution_count": 12,
     "metadata": {},
     "output_type": "execute_result"
    }
   ],
   "source": [
    "conversational_agent(\"\"\"In the given poeple.csv file create a new column called Name and fill the column with the column values of \n",
    "                     First Name and Last Name separated with space.Then Delete First Name and Last Name column in th dataset.\n",
    "                     Save the given dataset after the modification as people.csv. \n",
    "                     \"\"\")\n",
    "                    "
   ]
  },
  {
   "cell_type": "code",
   "execution_count": 10,
   "metadata": {},
   "outputs": [
    {
     "name": "stdout",
     "output_type": "stream",
     "text": [
      "\n",
      "\n",
      "\u001b[1m> Entering new AgentExecutor chain...\u001b[0m\n"
     ]
    },
    {
     "name": "stderr",
     "output_type": "stream",
     "text": [
      "c:\\anaconda\\envs\\langgraph\\lib\\site-packages\\langchain_core\\_api\\deprecation.py:139: LangChainDeprecationWarning: The method `Chain.__call__` was deprecated in langchain 0.1.0 and will be removed in 0.3.0. Use invoke instead.\n",
      "  warn_deprecated(\n"
     ]
    },
    {
     "name": "stdout",
     "output_type": "stream",
     "text": [
      "\u001b[32;1m\u001b[1;3m```json\n",
      "{\n",
      "    \"action\": \"Data_analyst\",\n",
      "    \"action_input\": \"Load the CSV file and import it into the SQL database. Then, use SQL queries to retrieve the entries where the sex is male.\"\n",
      "}\n",
      "```\u001b[0m"
     ]
    },
    {
     "name": "stderr",
     "output_type": "stream",
     "text": [
      "c:\\anaconda\\envs\\langgraph\\lib\\site-packages\\langchain_core\\_api\\deprecation.py:139: LangChainDeprecationWarning: The method `Chain.run` was deprecated in langchain 0.1.0 and will be removed in 0.3.0. Use invoke instead.\n",
      "  warn_deprecated(\n"
     ]
    },
    {
     "name": "stdout",
     "output_type": "stream",
     "text": [
      "\n",
      "Observation: \u001b[36;1m\u001b[1;3mThe entries where the sex is male have been retrieved from the SQL database and printed out. There are 40 entries in total.\u001b[0m\n",
      "Thought:\u001b[32;1m\u001b[1;3m```json\n",
      "{\n",
      "    \"action\": \"Final Answer\",\n",
      "    \"action_input\": \"There are 40 entries where the sex is male.\"\n",
      "}\n",
      "```\u001b[0m\n",
      "\n",
      "\u001b[1m> Finished chain.\u001b[0m\n"
     ]
    },
    {
     "data": {
      "text/plain": [
       "{'input': 'load every columns and rows from given csv file into the sql database.\\n                     Then using sql queries print the entries where the sex is male',\n",
       " 'chat_history': [],\n",
       " 'output': 'There are 40 entries where the sex is male.'}"
      ]
     },
     "execution_count": 10,
     "metadata": {},
     "output_type": "execute_result"
    }
   ],
   "source": [
    "conversational_agent(\"\"\"load every columns and rows from given csv file into the sql database(my_database.db).\n",
    "                     Then using sql queries print the entries where the sex is male\"\"\")\n",
    "                    "
   ]
  }
 ],
 "metadata": {
  "kernelspec": {
   "display_name": "langgraph",
   "language": "python",
   "name": "python3"
  },
  "language_info": {
   "codemirror_mode": {
    "name": "ipython",
    "version": 3
   },
   "file_extension": ".py",
   "mimetype": "text/x-python",
   "name": "python",
   "nbconvert_exporter": "python",
   "pygments_lexer": "ipython3",
   "version": "3.10.14"
  }
 },
 "nbformat": 4,
 "nbformat_minor": 2
}
